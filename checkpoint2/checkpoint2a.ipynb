{
 "cells": [
  {
   "cell_type": "markdown",
   "id": "unusual-presentation",
   "metadata": {
    "colab_type": "text",
    "id": "0a8IYAJUshu1"
   },
   "source": [
    "# Exercises"
   ]
  },
  {
   "cell_type": "markdown",
   "id": "alien-chemistry",
   "metadata": {},
   "source": [
    "These exercises are a mix of Python and pandas/EDA practice. Most should be no more than a few lines of code! "
   ]
  },
  {
   "cell_type": "code",
   "execution_count": 1,
   "id": "temporal-peoples",
   "metadata": {
    "colab": {},
    "colab_type": "code",
    "id": "Jo6wuTgkshu1"
   },
   "outputs": [],
   "source": [
    "# here is a Python list:\n",
    "\n",
    "a = [1, 2, 3, 4, 5, 6]\n",
    "\n",
    "# get a list containing the last 3 elements of a\n",
    "b = a[:-4:-1]\n",
    "# reverse the list\n",
    "c = a[::-1]\n",
    "\n",
    "# get a list where each entry in a is squared (so the new list is [1, 4, 9, 16, 25, 36])\n",
    "d =[]\n",
    "for i in a:\n",
    "    d.append(i*i)\n",
    "# list comprehension: e = [i*i for i in a]\n"
   ]
  },
  {
   "cell_type": "code",
   "execution_count": 2,
   "id": "foreign-hobby",
   "metadata": {
    "colab": {},
    "colab_type": "code",
    "id": "qANtg5kQshu2"
   },
   "outputs": [
    {
     "data": {
      "text/plain": [
       "array([1, 2, 3, 4, 5, 6])"
      ]
     },
     "execution_count": 2,
     "metadata": {},
     "output_type": "execute_result"
    }
   ],
   "source": [
    "# create a numpy array from this list\n",
    "import numpy as np\n",
    "b = np.array(a) # change this\n",
    "b"
   ]
  },
  {
   "cell_type": "code",
   "execution_count": 3,
   "id": "organic-stupid",
   "metadata": {
    "colab": {},
    "colab_type": "code",
    "id": "91CXRflLshu4"
   },
   "outputs": [
    {
     "data": {
      "text/plain": [
       "3.5"
      ]
     },
     "execution_count": 3,
     "metadata": {},
     "output_type": "execute_result"
    }
   ],
   "source": [
    "# find the mean of b\n",
    "np.mean(b)\n",
    "#b.mean()"
   ]
  },
  {
   "cell_type": "code",
   "execution_count": 4,
   "id": "bright-kinase",
   "metadata": {
    "colab": {},
    "colab_type": "code",
    "id": "ZJZFwzQfshu9"
   },
   "outputs": [
    {
     "data": {
      "text/plain": [
       "array([ 1,  4,  9, 16, 25, 36])"
      ]
     },
     "execution_count": 4,
     "metadata": {},
     "output_type": "execute_result"
    }
   ],
   "source": [
    "# get a list where each entry in b is squared (so the new numpy array is [1, 4, 9, 16, 25, 36])\n",
    "# use a different (numpy-specific) approach\n",
    "np.square(a)"
   ]
  },
  {
   "cell_type": "code",
   "execution_count": 5,
   "id": "universal-trance",
   "metadata": {
    "colab": {},
    "colab_type": "code",
    "id": "ajbA5rCCshu5"
   },
   "outputs": [
    {
     "data": {
      "text/plain": [
       "array([[1, 2, 3],\n",
       "       [4, 5, 6]])"
      ]
     },
     "execution_count": 5,
     "metadata": {},
     "output_type": "execute_result"
    }
   ],
   "source": [
    "# change b from a length-6 list to a 2x3 matrix\n",
    "b = b.reshape(2,3)\n",
    "b"
   ]
  },
  {
   "cell_type": "code",
   "execution_count": 6,
   "id": "visible-reading",
   "metadata": {
    "colab": {},
    "colab_type": "code",
    "id": "wancU_PWshu6"
   },
   "outputs": [
    {
     "data": {
      "text/plain": [
       "array([2., 5.])"
      ]
     },
     "execution_count": 6,
     "metadata": {},
     "output_type": "execute_result"
    }
   ],
   "source": [
    "# find the mean value of each row\n",
    "np.mean(b, axis = 1)"
   ]
  },
  {
   "cell_type": "code",
   "execution_count": 7,
   "id": "prompt-breed",
   "metadata": {
    "colab": {},
    "colab_type": "code",
    "id": "N3hXBrBtshu7"
   },
   "outputs": [
    {
     "data": {
      "text/plain": [
       "array([2.5, 3.5, 4.5])"
      ]
     },
     "execution_count": 7,
     "metadata": {},
     "output_type": "execute_result"
    }
   ],
   "source": [
    "# find the mean value of each column\n",
    "np.mean(b, axis = 0)"
   ]
  },
  {
   "cell_type": "code",
   "execution_count": 8,
   "id": "round-buffer",
   "metadata": {
    "colab": {},
    "colab_type": "code",
    "id": "GvbO8gBXshu8"
   },
   "outputs": [
    {
     "data": {
      "text/plain": [
       "array([3, 6])"
      ]
     },
     "execution_count": 8,
     "metadata": {},
     "output_type": "execute_result"
    }
   ],
   "source": [
    "# find the third column of b\n",
    "b[:,2] #returns a specific column at index 2 (col index is input after :,)\n",
    "#b[1,:] #returns a specific row at index 1 (row index is input before ,:)"
   ]
  },
  {
   "cell_type": "code",
   "execution_count": 9,
   "id": "distinguished-clause",
   "metadata": {
    "colab": {},
    "colab_type": "code",
    "id": "WzCQ5HOJshvA"
   },
   "outputs": [
    {
     "data": {
      "text/html": [
       "<div>\n",
       "<style scoped>\n",
       "    .dataframe tbody tr th:only-of-type {\n",
       "        vertical-align: middle;\n",
       "    }\n",
       "\n",
       "    .dataframe tbody tr th {\n",
       "        vertical-align: top;\n",
       "    }\n",
       "\n",
       "    .dataframe thead th {\n",
       "        text-align: right;\n",
       "    }\n",
       "</style>\n",
       "<table border=\"1\" class=\"dataframe\">\n",
       "  <thead>\n",
       "    <tr style=\"text-align: right;\">\n",
       "      <th></th>\n",
       "      <th>Unnamed: 0</th>\n",
       "      <th>beverage_category</th>\n",
       "      <th>beverage</th>\n",
       "      <th>beverage_prep</th>\n",
       "      <th>calories</th>\n",
       "      <th>total fat</th>\n",
       "      <th>trans fat</th>\n",
       "      <th>saturated fat</th>\n",
       "      <th>sodium</th>\n",
       "      <th>total carbohydrates</th>\n",
       "      <th>cholesterol</th>\n",
       "      <th>dietary fibre</th>\n",
       "      <th>sugars</th>\n",
       "      <th>protein</th>\n",
       "      <th>vitamin a</th>\n",
       "      <th>vitamin c</th>\n",
       "      <th>calcium</th>\n",
       "      <th>iron</th>\n",
       "      <th>caffeine</th>\n",
       "    </tr>\n",
       "  </thead>\n",
       "  <tbody>\n",
       "    <tr>\n",
       "      <th>0</th>\n",
       "      <td>0</td>\n",
       "      <td>coffee</td>\n",
       "      <td>brewed coffee</td>\n",
       "      <td>Short</td>\n",
       "      <td>3</td>\n",
       "      <td>0.1</td>\n",
       "      <td>0.0</td>\n",
       "      <td>0.0</td>\n",
       "      <td>0</td>\n",
       "      <td>5</td>\n",
       "      <td>0</td>\n",
       "      <td>0</td>\n",
       "      <td>0</td>\n",
       "      <td>0.3</td>\n",
       "      <td>0</td>\n",
       "      <td>0</td>\n",
       "      <td>0</td>\n",
       "      <td>0.0</td>\n",
       "      <td>175.0</td>\n",
       "    </tr>\n",
       "    <tr>\n",
       "      <th>1</th>\n",
       "      <td>1</td>\n",
       "      <td>coffee</td>\n",
       "      <td>brewed coffee</td>\n",
       "      <td>Tall</td>\n",
       "      <td>4</td>\n",
       "      <td>0.1</td>\n",
       "      <td>0.0</td>\n",
       "      <td>0.0</td>\n",
       "      <td>0</td>\n",
       "      <td>10</td>\n",
       "      <td>0</td>\n",
       "      <td>0</td>\n",
       "      <td>0</td>\n",
       "      <td>0.5</td>\n",
       "      <td>0</td>\n",
       "      <td>0</td>\n",
       "      <td>0</td>\n",
       "      <td>0.0</td>\n",
       "      <td>260.0</td>\n",
       "    </tr>\n",
       "    <tr>\n",
       "      <th>2</th>\n",
       "      <td>2</td>\n",
       "      <td>coffee</td>\n",
       "      <td>brewed coffee</td>\n",
       "      <td>Grande</td>\n",
       "      <td>5</td>\n",
       "      <td>0.1</td>\n",
       "      <td>0.0</td>\n",
       "      <td>0.0</td>\n",
       "      <td>0</td>\n",
       "      <td>10</td>\n",
       "      <td>0</td>\n",
       "      <td>0</td>\n",
       "      <td>0</td>\n",
       "      <td>1.0</td>\n",
       "      <td>0</td>\n",
       "      <td>0</td>\n",
       "      <td>0</td>\n",
       "      <td>0.0</td>\n",
       "      <td>330.0</td>\n",
       "    </tr>\n",
       "    <tr>\n",
       "      <th>3</th>\n",
       "      <td>3</td>\n",
       "      <td>coffee</td>\n",
       "      <td>brewed coffee</td>\n",
       "      <td>Venti</td>\n",
       "      <td>5</td>\n",
       "      <td>0.1</td>\n",
       "      <td>0.0</td>\n",
       "      <td>0.0</td>\n",
       "      <td>0</td>\n",
       "      <td>10</td>\n",
       "      <td>0</td>\n",
       "      <td>0</td>\n",
       "      <td>0</td>\n",
       "      <td>1.0</td>\n",
       "      <td>0</td>\n",
       "      <td>0</td>\n",
       "      <td>2</td>\n",
       "      <td>0.0</td>\n",
       "      <td>410.0</td>\n",
       "    </tr>\n",
       "    <tr>\n",
       "      <th>4</th>\n",
       "      <td>4</td>\n",
       "      <td>classic espresso drinks</td>\n",
       "      <td>caffè latte</td>\n",
       "      <td>Short Nonfat Milk</td>\n",
       "      <td>70</td>\n",
       "      <td>0.1</td>\n",
       "      <td>0.1</td>\n",
       "      <td>0.0</td>\n",
       "      <td>5</td>\n",
       "      <td>75</td>\n",
       "      <td>10</td>\n",
       "      <td>0</td>\n",
       "      <td>9</td>\n",
       "      <td>6.0</td>\n",
       "      <td>10</td>\n",
       "      <td>0</td>\n",
       "      <td>20</td>\n",
       "      <td>0.0</td>\n",
       "      <td>75.0</td>\n",
       "    </tr>\n",
       "  </tbody>\n",
       "</table>\n",
       "</div>"
      ],
      "text/plain": [
       "   Unnamed: 0        beverage_category       beverage      beverage_prep  \\\n",
       "0           0                   coffee  brewed coffee              Short   \n",
       "1           1                   coffee  brewed coffee               Tall   \n",
       "2           2                   coffee  brewed coffee             Grande   \n",
       "3           3                   coffee  brewed coffee              Venti   \n",
       "4           4  classic espresso drinks    caffè latte  Short Nonfat Milk   \n",
       "\n",
       "   calories  total fat   trans fat   saturated fat    sodium   \\\n",
       "0         3         0.1         0.0             0.0         0   \n",
       "1         4         0.1         0.0             0.0         0   \n",
       "2         5         0.1         0.0             0.0         0   \n",
       "3         5         0.1         0.0             0.0         0   \n",
       "4        70         0.1         0.1             0.0         5   \n",
       "\n",
       "   total carbohydrates   cholesterol   dietary fibre   sugars   protein   \\\n",
       "0                     5             0               0        0       0.3   \n",
       "1                    10             0               0        0       0.5   \n",
       "2                    10             0               0        0       1.0   \n",
       "3                    10             0               0        0       1.0   \n",
       "4                    75            10               0        9       6.0   \n",
       "\n",
       "   vitamin a   vitamin c   calcium   iron   caffeine   \n",
       "0           0           0         0    0.0      175.0  \n",
       "1           0           0         0    0.0      260.0  \n",
       "2           0           0         0    0.0      330.0  \n",
       "3           0           0         2    0.0      410.0  \n",
       "4          10           0        20    0.0       75.0  "
      ]
     },
     "execution_count": 9,
     "metadata": {},
     "output_type": "execute_result"
    }
   ],
   "source": [
    "# load in the \"starbucks_clean.csv\" dataset\n",
    "import pandas as pd\n",
    "df = pd.read_csv(\"../data/starbucks_clean.csv\")\n",
    "df.head()"
   ]
  },
  {
   "cell_type": "code",
   "execution_count": 10,
   "id": "global-clothing",
   "metadata": {
    "colab": {},
    "colab_type": "code",
    "id": "rIoxaSxHshvB"
   },
   "outputs": [
    {
     "data": {
      "text/plain": [
       "193.87190082644628"
      ]
     },
     "execution_count": 10,
     "metadata": {},
     "output_type": "execute_result"
    }
   ],
   "source": [
    "# this is nutritional info for starbucks items\n",
    "# let's see if we can answer some questions\n",
    "\n",
    "# what is the average # calories across all items?\n",
    "df[\"calories\"].mean()"
   ]
  },
  {
   "cell_type": "code",
   "execution_count": 11,
   "id": "shaped-paris",
   "metadata": {
    "colab": {},
    "colab_type": "code",
    "id": "ABX7i49FshvD"
   },
   "outputs": [
    {
     "data": {
      "text/plain": [
       "9"
      ]
     },
     "execution_count": 11,
     "metadata": {},
     "output_type": "execute_result"
    }
   ],
   "source": [
    "# how many different categories of beverages are there?\n",
    "len(df[\"beverage_category\"].unique())"
   ]
  },
  {
   "cell_type": "code",
   "execution_count": 12,
   "id": "organic-encyclopedia",
   "metadata": {
    "colab": {},
    "colab_type": "code",
    "id": "P9QatZAzshvE"
   },
   "outputs": [
    {
     "data": {
      "text/plain": [
       "beverage_category\n",
       "classic espresso drinks             140.172414\n",
       "coffee                                4.250000\n",
       "frappuccino blended coffee          276.944444\n",
       "frappuccino blended crème           233.076923\n",
       "frappuccino light blended coffee    162.500000\n",
       "shaken iced beverages               114.444444\n",
       "signature espresso drinks           250.000000\n",
       "smoothies                           282.222222\n",
       "tazo tea drinks                     177.307692\n",
       "Name: calories, dtype: float64"
      ]
     },
     "execution_count": 12,
     "metadata": {},
     "output_type": "execute_result"
    }
   ],
   "source": [
    "# what is the average # calories for each beverage category?\n",
    "category_grp = df.groupby(\"beverage_category\")\n",
    "category_grp[\"calories\"].mean()\n"
   ]
  },
  {
   "cell_type": "code",
   "execution_count": 13,
   "id": "enhanced-prior",
   "metadata": {
    "colab": {},
    "colab_type": "code",
    "id": "y8KEpYNkshvG"
   },
   "outputs": [
    {
     "data": {
      "text/plain": [
       "beverage_prep\n",
       "2% Milk               30.980000\n",
       "Doppio                 0.000000\n",
       "Grande                20.000000\n",
       "Grande Nonfat Milk    38.615385\n",
       "Short                  8.250000\n",
       "Short Nonfat Milk     17.000000\n",
       "Solo                   0.000000\n",
       "Soymilk               31.848485\n",
       "Tall                  14.714286\n",
       "Tall Nonfat Milk      28.521739\n",
       "Venti                 27.714286\n",
       "Venti Nonfat Milk     50.045455\n",
       "Whole Milk            55.687500\n",
       "Name: sugars , dtype: float64"
      ]
     },
     "execution_count": 13,
     "metadata": {},
     "output_type": "execute_result"
    }
   ],
   "source": [
    "# what beverage preparation includes the most sugar on average?\n",
    "bev_prep_grp = df.groupby(\"beverage_prep\")\n",
    "bev_prep_grp[\"sugars \"].mean()\n",
    "# Whole Milk has the most sugar on average"
   ]
  },
  {
   "cell_type": "code",
   "execution_count": 14,
   "id": "academic-unknown",
   "metadata": {
    "colab": {},
    "colab_type": "code",
    "id": "MnbCEJw8shvH"
   },
   "outputs": [
    {
     "data": {
      "text/plain": [
       "beverage\n",
       "banana chocolate smoothie                           20.000000\n",
       "brewed coffee                                        0.500000\n",
       "caffè americano                                      1.500000\n",
       "caffè latte                                         35.000000\n",
       "caffè mocha without whipped cream                   30.000000\n",
       "cappuccino                                          22.500000\n",
       "caramel                                             11.000000\n",
       "caramel apple spice without whipped cream            0.000000\n",
       "caramel macchiato                                   28.333333\n",
       "caramel without whipped cream                       12.000000\n",
       "coffee                                              12.333333\n",
       "espresso                                             0.000000\n",
       "hot chocolate without whipped cream                 35.000000\n",
       "iced brewed coffee with classic syrup                0.000000\n",
       "iced brewed coffee with milk  classic syrup          8.000000\n",
       "java chip                                           11.666667\n",
       "java chip without whipped cream                     12.555556\n",
       "mocha                                               11.000000\n",
       "mocha without whipped cream                         12.000000\n",
       "orange mango banana smoothie                        10.000000\n",
       "shaken iced tazo tea lemonade with classic syrup     0.000000\n",
       "shaken iced tazo tea with classic syrup              0.000000\n",
       "skinny latte any flavour                            33.750000\n",
       "strawberries  crème without whipped cream           15.000000\n",
       "strawberry banana smoothie                          10.000000\n",
       "tazo chai tea latte                                 21.666667\n",
       "tazo fullleaf red tea latte vanilla rooibos         20.833333\n",
       "tazo fullleaf tea latte                             20.833333\n",
       "tazo green tea latte                                39.166667\n",
       "tazo tea                                             0.000000\n",
       "vanilla bean without whipped cream                  11.250000\n",
       "vanilla latte or other flavoured latte              32.916667\n",
       "white chocolate mocha without whipped cream         41.250000\n",
       "Name: calcium , dtype: float64"
      ]
     },
     "execution_count": 14,
     "metadata": {},
     "output_type": "execute_result"
    }
   ],
   "source": [
    "# what is the average % daily value calcium content for each beverage?\n",
    "bev_grp = df.groupby(\"beverage\")\n",
    "bev_grp[\"calcium \"].mean()"
   ]
  },
  {
   "cell_type": "code",
   "execution_count": 15,
   "id": "changing-norman",
   "metadata": {
    "colab": {},
    "colab_type": "code",
    "id": "Nv5dksj_shvJ"
   },
   "outputs": [
    {
     "data": {
      "text/plain": [
       "Unnamed: 0                                   50\n",
       "beverage_category       classic espresso drinks\n",
       "beverage                             cappuccino\n",
       "beverage_prep                Grande Nonfat Milk\n",
       "calories                                     80\n",
       "total fat                                   0.2\n",
       "trans fat                                   0.1\n",
       "saturated fat                               0.0\n",
       " sodium                                       5\n",
       "total carbohydrates                          90\n",
       "cholesterol                                  12\n",
       "dietary fibre                                 0\n",
       "sugars                                       10\n",
       "protein                                     8.0\n",
       "vitamin a                                    15\n",
       "vitamin c                                     0\n",
       "calcium                                      25\n",
       "iron                                        0.0\n",
       "caffeine                                  150.0\n",
       "Name: 50, dtype: object"
      ]
     },
     "execution_count": 15,
     "metadata": {},
     "output_type": "execute_result"
    }
   ],
   "source": [
    "# It's bulking season. What drink should Naitian get so that he maximizes protein but minimizes calories?\n",
    "# (you can use more than one line for this one)\n",
    "# there are multiple valid approaches you can take for this (with different answers)\n",
    "# I know that you want more calories for bulking season but whatever this is MDST, not Michigan Muscle Club okay\n",
    "df_low_cal = df[df[\"calories\"] < 100]\n",
    "df_low_cal['protein '].idxmax()\n",
    "df.iloc[df_low_cal['protein '].idxmax()]\n"
   ]
  },
  {
   "cell_type": "code",
   "execution_count": 16,
   "id": "addressed-royalty",
   "metadata": {},
   "outputs": [
    {
     "data": {
      "text/plain": [
       "<AxesSubplot:ylabel='Frequency'>"
      ]
     },
     "execution_count": 16,
     "metadata": {},
     "output_type": "execute_result"
    },
    {
     "data": {
      "image/png": "[encoded data removed]",
      "text/plain": [
       "<Figure size 432x288 with 1 Axes>"
      ]
     },
     "metadata": {
      "needs_background": "light"
     },
     "output_type": "display_data"
    }
   ],
   "source": [
    "# plot the distribution of the number of calories in drinks using matplotlib\n",
    "import matplotlib.pyplot as plt\n",
    "df[\"calories\"].plot.hist(bins=20)"
   ]
  },
  {
   "cell_type": "code",
   "execution_count": 17,
   "id": "efficient-garbage",
   "metadata": {},
   "outputs": [
    {
     "data": {
      "text/plain": [
       "<seaborn.axisgrid.FacetGrid at 0x7f009989e9a0>"
      ]
     },
     "execution_count": 17,
     "metadata": {},
     "output_type": "execute_result"
    },
    {
     "data": {
      "image/png": "[encoded data removed]",
      "text/plain": [
       "<Figure size 360x360 with 1 Axes>"
      ]
     },
     "metadata": {},
     "output_type": "display_data"
    }
   ],
   "source": [
    "# plot the same distribution using seaborn. what about a density plot instead?\n",
    "import seaborn as sns\n",
    "sns.set()\n",
    "sns.displot(data = df, x=\"calories\", bins=30)"
   ]
  },
  {
   "cell_type": "code",
   "execution_count": 18,
   "id": "confirmed-story",
   "metadata": {},
   "outputs": [
    {
     "data": {
      "text/plain": [
       "<seaborn.axisgrid.FacetGrid at 0x7f00791ae490>"
      ]
     },
     "execution_count": 18,
     "metadata": {},
     "output_type": "execute_result"
    },
    {
     "data": {
      "image/png": "[encoded data removed]",
      "text/plain": [
       "<Figure size 360x360 with 1 Axes>"
      ]
     },
     "metadata": {},
     "output_type": "display_data"
    }
   ],
   "source": [
    "sns.displot(data=df, x=\"calories\", kind=\"kde\")"
   ]
  },
  {
   "cell_type": "code",
   "execution_count": 19,
   "id": "chicken-aluminum",
   "metadata": {},
   "outputs": [
    {
     "data": {
      "text/plain": [
       "<AxesSubplot:xlabel='calories', ylabel='total fat '>"
      ]
     },
     "execution_count": 19,
     "metadata": {},
     "output_type": "execute_result"
    },
    {
     "data": {
      "image/png": "[encoded data removed]",
      "text/plain": [
       "<Figure size 432x288 with 1 Axes>"
      ]
     },
     "metadata": {},
     "output_type": "display_data"
    }
   ],
   "source": [
    "# plot calories against total fat using seaborn\n",
    "sns.scatterplot(data=df, x=\"calories\", y=\"total fat \")"
   ]
  },
  {
   "cell_type": "code",
   "execution_count": 20,
   "id": "involved-fighter",
   "metadata": {},
   "outputs": [
    {
     "data": {
      "text/plain": [
       "array([[<AxesSubplot:title={'center':'2% Milk'}>,\n",
       "        <AxesSubplot:title={'center':'Doppio'}>,\n",
       "        <AxesSubplot:title={'center':'Grande'}>,\n",
       "        <AxesSubplot:title={'center':'Grande Nonfat Milk'}>],\n",
       "       [<AxesSubplot:title={'center':'Short'}>,\n",
       "        <AxesSubplot:title={'center':'Short Nonfat Milk'}>,\n",
       "        <AxesSubplot:title={'center':'Solo'}>,\n",
       "        <AxesSubplot:title={'center':'Soymilk'}>],\n",
       "       [<AxesSubplot:title={'center':'Tall'}>,\n",
       "        <AxesSubplot:title={'center':'Tall Nonfat Milk'}>,\n",
       "        <AxesSubplot:title={'center':'Venti'}>,\n",
       "        <AxesSubplot:title={'center':'Venti Nonfat Milk'}>],\n",
       "       [<AxesSubplot:title={'center':'Whole Milk'}>, <AxesSubplot:>,\n",
       "        <AxesSubplot:>, <AxesSubplot:>]], dtype=object)"
      ]
     },
     "execution_count": 20,
     "metadata": {},
     "output_type": "execute_result"
    },
    {
     "data": {
      "image/png": "[encoded data removed]",
      "text/plain": [
       "<Figure size 720x720 with 16 Axes>"
      ]
     },
     "metadata": {},
     "output_type": "display_data"
    }
   ],
   "source": [
    "# plot the distribution of calories in Short, Tall, Grande, and Venti drinks\n",
    "# (you can use multiple lines for this)\n",
    "# twist: you should also include the Nonfat Milk drinks that also have an associated size.\n",
    "\n",
    "# you can decide how you want to visualize this. Colors? Small multiples? Density vs histogram?\n",
    "# the starbucks is your oyster.\n",
    "df[\"calories\"].hist(by=df[\"beverage_prep\"], figsize=(10, 10))"
   ]
  }
 ],
 "metadata": {
  "kernelspec": {
   "display_name": "Python 3",
   "language": "python",
   "name": "python3"
  },
  "language_info": {
   "codemirror_mode": {
    "name": "ipython",
    "version": 3
   },
   "file_extension": ".py",
   "mimetype": "text/x-python",
   "name": "python",
   "nbconvert_exporter": "python",
   "pygments_lexer": "ipython3",
   "version": "3.8.5"
  }
 },
 "nbformat": 4,
 "nbformat_minor": 5
}
